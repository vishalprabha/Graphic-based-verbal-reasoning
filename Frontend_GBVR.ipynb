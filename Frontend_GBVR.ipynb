{
  "cells": [
    {
      "metadata": {
        "collapsed": true
      },
      "cell_type": "markdown",
      "source": "## Frontend Flask Server Implementation\n\n### Loading Libraries \n"
    },
    {
      "metadata": {
        "trusted": true,
        "collapsed": true
      },
      "cell_type": "code",
      "source": "from flask import Flask, request, render_template, jsonify\nfrom tinydb import TinyDB, Query, where\nfrom tinydb.operations import set\nimport os\nimport subprocess\nimport pyttsx3\nimport re",
      "execution_count": 2
    },
    {
      "metadata": {},
      "cell_type": "markdown",
      "source": "### Model of  Frontend\n\n![front end model](https://github.com/vishalprabha/Graphic-based-verbal-reasoning/blob/master/front_back_end.JPG)"
    },
    {
      "metadata": {},
      "cell_type": "markdown",
      "source": "### DB Initialization and Constants\n\nInitialization of TinyDB by passing the path of the data file, and setting up other path constants"
    },
    {
      "metadata": {
        "trusted": true,
        "collapsed": true
      },
      "cell_type": "code",
      "source": "''' Constants  '''\nIMAGE_URL = '..\\\\static\\\\test_images\\\\'\nIMAGE_PATH = 'web\\\\static\\\\test_images\\\\'\n\n''' Text to speech Init '''\n\n\n''' DB COnfiguration '''\ndb = TinyDB('db/db.json')\ndb_query = Query()\n",
      "execution_count": 1
    },
    {
      "metadata": {},
      "cell_type": "markdown",
      "source": "### Routes or Endpoints of Flask Server\n\nVarious endpoints are defined in the server to handle the incoming data and process it. We have defined majorly 3 routes or endpoints in the server\n1) Index Route: It handles the first render of the html page and sets the default data"
    },
    {
      "metadata": {
        "trusted": true
      },
      "cell_type": "code",
      "source": "@app.route('/', methods=[\"GET\",\"POST\"])\ndef index():\n    init_data = db.all()\n    print(init_data)\n    return render_template(\"index.html\", data = init_data[0])",
      "execution_count": null,
      "outputs": []
    },
    {
      "metadata": {},
      "cell_type": "markdown",
      "source": "2)  Conversation Route: It handles the conversation between the user and GBVR Asst, and takes in the question and the image provided and creates the asynchronous subprocess call to the backend, and the result is returned."
    },
    {
      "metadata": {
        "trusted": true
      },
      "cell_type": "code",
      "source": "@app.route('/convo', methods= ['GET', 'POST'])\ndef converstion():\n    if request.method == 'GET':\n        question = request.args['msg']\n        print(\"MESSAGE : \" + question)\n\n        # subprocess call to gbvr by mmoving out to root\n        # print(\"current working dir prev \" + os.getcwd())\n        web_dir = os.getcwd()\n        os.chdir(\"..\\\\\")\n        # print(\"current working dir after \" + os.getcwd())\n\n        img_path = db.search(db_query.chat_id == 1)[0]['img_path']\n        print(img_path)\n\n        std_out = open(\"web\\\\output.txt\", \"r+\")\n        # std_out.write(question)\n        s = subprocess.Popen(['python', 'demo.py', '-image_file_name', img_path, '-question', question], stdout = std_out)\n        s.wait()\n        os.chdir(web_dir)\n\n        # parse the output to dict\n        result_dict = parse_output()\n        db.update(set(\"q_a\", [{\"question\": question, \"result\": result_dict}]), db_query.chat_id == 1)\n\n        return jsonify(result_dict)",
      "execution_count": null,
      "outputs": []
    },
    {
      "metadata": {},
      "cell_type": "markdown",
      "source": "3) Upload Route: It handles the upload of the images to the TinyDB"
    },
    {
      "metadata": {
        "trusted": true
      },
      "cell_type": "code",
      "source": "@app.route('/upload', methods= ['GET', 'POST'])\ndef upload_file():\n    if request.method == 'GET':\n        print(\"Hi upload POST call\", request.args)\n\n        file_name = os.path.basename(request.args['file'])\n        file_url = IMAGE_URL + file_name\n        file_path = IMAGE_PATH + file_name\n\n        db.update(set(\"img_url\", file_url), db_query.chat_id == 1)\n        db.update(set(\"img_path\", file_path), db_query.chat_id == 1 )\n        return file_url\n    else:\n        return '404'",
      "execution_count": null,
      "outputs": []
    },
    {
      "metadata": {},
      "cell_type": "markdown",
      "source": "### Text to Speech Engine\n\nThe TTS route is defined for converting the text to speech, this is fired on the retrival of the result. This route handles the speech engine properties and the result text to be read out."
    },
    {
      "metadata": {
        "trusted": true
      },
      "cell_type": "code",
      "source": "@app.route('/tts', methods= ['GET', \"POST\"])\ndef tts():\n    if request.method == 'GET':\n        message = request.args['message']\n        print(\"TTS : \" + message)\n        message = re.sub(r'<br/>', \"\", message)\n        # message.replace(\"<br/>\", \"\")\n        print(\"TTS : \" + message)\n        engine = pyttsx3.init()\n        voices = engine.getProperty('voices')\n        rate = engine.getProperty('rate')\n        engine.setProperty('rate', rate-50) #set rate\n        volume = engine.getProperty('volume')\n        engine.setProperty('volume', volume+0.50) #set volume\n        voices = engine.getProperty('voices')\n        engine.setProperty('voice', 'english+f4') #voice id 0\n        engine.say(message)\n        engine.runAndWait()\n        return ''",
      "execution_count": null,
      "outputs": []
    }
  ],
  "metadata": {
    "kernelspec": {
      "name": "python36",
      "display_name": "Python 3.6",
      "language": "python"
    },
    "language_info": {
      "mimetype": "text/x-python",
      "nbconvert_exporter": "python",
      "name": "python",
      "pygments_lexer": "ipython3",
      "version": "3.6.6",
      "file_extension": ".py",
      "codemirror_mode": {
        "version": 3,
        "name": "ipython"
      }
    }
  },
  "nbformat": 4,
  "nbformat_minor": 2
}
